{
 "cells": [
  {
   "cell_type": "code",
   "execution_count": 2,
   "metadata": {},
   "outputs": [],
   "source": [
    "#check if title of submission is positive or negative in oder to have a control mechanism\n",
    "#of the effect of violent images on user attention on Reddit "
   ]
  },
  {
   "cell_type": "code",
   "execution_count": null,
   "metadata": {},
   "outputs": [],
   "source": [
    "#install all necessary libraries\n",
    "#pip install vaderSentiment"
   ]
  },
  {
   "cell_type": "code",
   "execution_count": 1,
   "metadata": {},
   "outputs": [],
   "source": [
    "#load alll important libraries\n",
    "\n",
    "#gerneral libraries\n",
    "import os \n",
    "import pandas as pd\n",
    "\n",
    "#sentiment libraries and nlp\n",
    "from vaderSentiment.vaderSentiment import SentimentIntensityAnalyzer\n",
    "from textblob import TextBlob\n",
    "import re \n",
    "\n",
    "#math libraries \n",
    "import numpy as np"
   ]
  },
  {
   "cell_type": "code",
   "execution_count": 3,
   "metadata": {},
   "outputs": [],
   "source": [
    "#change working directory\n",
    "os.chdir ('/Users/there/Doktorand/Journal Paper/Paper BLM Reactions/Data')"
   ]
  },
  {
   "cell_type": "code",
   "execution_count": null,
   "metadata": {},
   "outputs": [],
   "source": [
    "#Overview of Vader values\n",
    "#positive sentiment: compound score >= 0.05\n",
    "#neutral sentiment: compound score >-0.05 and <0.05\n",
    "#negative sentiment: compound score <= -0.05"
   ]
  },
  {
   "cell_type": "code",
   "execution_count": 4,
   "metadata": {},
   "outputs": [],
   "source": [
    "#define vader object\n",
    "analyser = SentimentIntensityAnalyzer()"
   ]
  },
  {
   "cell_type": "code",
   "execution_count": 1,
   "metadata": {},
   "outputs": [],
   "source": [
    "#check all functions of vader \n",
    "print(dir(analyser))"
   ]
  },
  {
   "cell_type": "code",
   "execution_count": 6,
   "metadata": {},
   "outputs": [],
   "source": [
    "#function for sentiment analyzer scores \n",
    "def sentiment_analyzer_scores(sentence):\n",
    "    score = analyser.polarity_scores(sentence)\n",
    "    print(\"{:-<40} {}\".format(sentence, str(score)))"
   ]
  },
  {
   "cell_type": "code",
   "execution_count": 2,
   "metadata": {},
   "outputs": [],
   "source": [
    "#test function \n",
    "sentiment_analyzer_scores(\"This phone is super cool.\")"
   ]
  },
  {
   "cell_type": "code",
   "execution_count": 3,
   "metadata": {},
   "outputs": [],
   "source": [
    "#load data\n",
    "df = pd.read_csv('/Users/there/Doktorand/Journal Paper/Paper BLM Reactions/Data/blm.csv')\n",
    "df"
   ]
  },
  {
   "cell_type": "code",
   "execution_count": 4,
   "metadata": {},
   "outputs": [],
   "source": [
    "#add polarity score to each title with vader \n",
    "df['v_Sentiment_scores'] = df['Title'].apply(lambda x: analyser.polarity_scores(x))\n",
    "df.head()"
   ]
  },
  {
   "cell_type": "code",
   "execution_count": 5,
   "metadata": {},
   "outputs": [],
   "source": [
    "#create Vader compound value\n",
    "df['v_Sentiment_compound'] = df['v_Sentiment_scores'].apply(lambda score_dict: score_dict['compound'])\n",
    "df.head()"
   ]
  },
  {
   "cell_type": "code",
   "execution_count": 77,
   "metadata": {},
   "outputs": [],
   "source": [
    "#only negative values\n",
    "df['Sentiment_negative'] = df['Sentiment_scores'].apply(lambda score_dict: score_dict['neg'])\n",
    "df.head()"
   ]
  },
  {
   "cell_type": "code",
   "execution_count": 6,
   "metadata": {},
   "outputs": [],
   "source": [
    "#positve and negative values \n",
    "df['v_Sentiment_nepo'] = df['v_Sentiment_compound'].apply(lambda c: 'positive' if c >=0 else 'negative')\n",
    "df.head()"
   ]
  },
  {
   "cell_type": "code",
   "execution_count": 7,
   "metadata": {},
   "outputs": [],
   "source": [
    "#transforming scores into positive, negative and neutral \n",
    "df['v_Sentiment_3']= df['v_Sentiment_compound'].apply(lambda c: 'positive' if c >= 0.05 else 'negative' if c <= -0.05 else 'neutral')\n",
    "df.head()"
   ]
  },
  {
   "cell_type": "code",
   "execution_count": 80,
   "metadata": {},
   "outputs": [],
   "source": [
    "###########################################"
   ]
  },
  {
   "cell_type": "code",
   "execution_count": 81,
   "metadata": {},
   "outputs": [],
   "source": [
    "#Textblob\n",
    "# Each word in the lexicon has scores for:\n",
    "# 1) polarity: negative vs. positive    (-1.0 => +1.0)\n",
    "# 2) subjectivity: objective vs. subjective (+0.0 => +1.0)\n",
    "# 3) intensity: modifies next word?      (x0.5 => x2.0)\n",
    "\n",
    "# e.g. Sentiment(polarity=-0.3076923076923077, subjectivity=0.5769230769230769)"
   ]
  },
  {
   "cell_type": "code",
   "execution_count": 8,
   "metadata": {},
   "outputs": [],
   "source": [
    "#polarity and subjectvity scores with textblob\n",
    "df['t_Sentiment_scores'] = df['Title'].apply(lambda x: TextBlob(x).sentiment)\n",
    "df"
   ]
  },
  {
   "cell_type": "code",
   "execution_count": 9,
   "metadata": {},
   "outputs": [],
   "source": [
    "#only polarity score \n",
    "df['t_Polarity'] = df['Title'].apply(lambda x: TextBlob(x).sentiment[0])\n",
    "df.head()"
   ]
  },
  {
   "cell_type": "code",
   "execution_count": 10,
   "metadata": {},
   "outputs": [],
   "source": [
    "#only positve and negative \n",
    "df['t_Sentiment_nepo'] = df['t_Polarity'].apply(lambda c: 'positive' if c >=0 else 'negative')\n",
    "df.head()"
   ]
  },
  {
   "cell_type": "code",
   "execution_count": 11,
   "metadata": {},
   "outputs": [],
   "source": [
    "#transforming scores into positive, negative and neutral \n",
    "df['t_Sentiment_3']= df['t_Polarity'].apply(lambda c: 'positive' if c > 0 else 'negative' if c < 0 else 'neutral')\n",
    "df.head()"
   ]
  },
  {
   "cell_type": "code",
   "execution_count": 12,
   "metadata": {},
   "outputs": [],
   "source": [
    "#only subjectivity score \n",
    "df['t_Subjectivity_scores'] = df['Title'].apply(lambda x: TextBlob(x).sentiment[1])\n",
    "df.head()"
   ]
  },
  {
   "cell_type": "code",
   "execution_count": 13,
   "metadata": {},
   "outputs": [],
   "source": [
    "#subjective vs objective \n",
    "df['t_Subjectivity'] = df['t_Subjectivity_scores'].apply(lambda c: 'objective' if c <=0.5 else 'subjective')\n",
    "df.head()"
   ]
  },
  {
   "cell_type": "code",
   "execution_count": 88,
   "metadata": {},
   "outputs": [],
   "source": [
    "###########################"
   ]
  },
  {
   "cell_type": "code",
   "execution_count": 89,
   "metadata": {},
   "outputs": [],
   "source": [
    "#check how vader performas compared to textblob"
   ]
  },
  {
   "cell_type": "code",
   "execution_count": 90,
   "metadata": {},
   "outputs": [],
   "source": [
    "#build checker and compare vader sentiment nepo and textblob sentiment nepo clasification\n",
    "checker = []\n",
    "checker = np.where(df[\"v_Sentiment_nepo\"] == df[\"t_Sentiment_nepo\"], True, False)"
   ]
  },
  {
   "cell_type": "code",
   "execution_count": 14,
   "metadata": {},
   "outputs": [],
   "source": [
    "#look at checker \n",
    "checker"
   ]
  },
  {
   "cell_type": "code",
   "execution_count": 92,
   "metadata": {},
   "outputs": [],
   "source": [
    "#append checker to dataframe \n",
    "df[\"Same_Sentiment_nepo\"] = checker"
   ]
  },
  {
   "cell_type": "code",
   "execution_count": 15,
   "metadata": {},
   "outputs": [],
   "source": [
    "#count values of true and false \n",
    "df.Same_Sentiment_nepo.value_counts()"
   ]
  },
  {
   "cell_type": "code",
   "execution_count": 95,
   "metadata": {},
   "outputs": [],
   "source": [
    "#########################################"
   ]
  },
  {
   "cell_type": "code",
   "execution_count": 96,
   "metadata": {},
   "outputs": [],
   "source": [
    "#build checker and compare vader sentiment 3 and textblob sentiment 3 clasification\n",
    "checker_2 = []\n",
    "checker_2 = np.where(df[\"v_Sentiment_3\"] == df[\"t_Sentiment_3\"], True, False)"
   ]
  },
  {
   "cell_type": "code",
   "execution_count": 16,
   "metadata": {},
   "outputs": [],
   "source": [
    "#look at checker \n",
    "checker_2"
   ]
  },
  {
   "cell_type": "code",
   "execution_count": 98,
   "metadata": {},
   "outputs": [],
   "source": [
    "#append checker to dataframe \n",
    "df[\"Same_Sentiment_3\"] = checker_2"
   ]
  },
  {
   "cell_type": "code",
   "execution_count": 17,
   "metadata": {},
   "outputs": [],
   "source": [
    "#count values of true and false \n",
    "df.Same_Sentiment_3.value_counts()"
   ]
  },
  {
   "cell_type": "code",
   "execution_count": 101,
   "metadata": {},
   "outputs": [],
   "source": [
    "#save the data\n",
    "df.to_csv('/Users/there/Doktorand/Journal Paper/Paper BLM Reactions/Data/blm_v3.csv', index=False)\n"
   ]
  },
  {
   "cell_type": "code",
   "execution_count": null,
   "metadata": {},
   "outputs": [],
   "source": []
  }
 ],
 "metadata": {
  "kernelspec": {
   "display_name": "Python 3",
   "language": "python",
   "name": "python3"
  },
  "language_info": {
   "codemirror_mode": {
    "name": "ipython",
    "version": 3
   },
   "file_extension": ".py",
   "mimetype": "text/x-python",
   "name": "python",
   "nbconvert_exporter": "python",
   "pygments_lexer": "ipython3",
   "version": "3.7.9"
  }
 },
 "nbformat": 4,
 "nbformat_minor": 4
}
