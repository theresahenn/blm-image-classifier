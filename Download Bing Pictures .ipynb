{
 "cells": [
  {
   "cell_type": "code",
   "execution_count": 1,
   "metadata": {},
   "outputs": [],
   "source": [
    "#Download images from Bing in order to increase dataset"
   ]
  },
  {
   "cell_type": "code",
   "execution_count": 5,
   "metadata": {},
   "outputs": [],
   "source": [
    "#install all necessary packages\n",
    "#pip install bing-image-downloader"
   ]
  },
  {
   "cell_type": "code",
   "execution_count": 6,
   "metadata": {},
   "outputs": [],
   "source": [
    "#import all necessary packages\n",
    "import os \n",
    "from bing_image_downloader import downloader"
   ]
  },
  {
   "cell_type": "code",
   "execution_count": 2,
   "metadata": {},
   "outputs": [],
   "source": [
    "#setting working directory \n",
    "os.chdir ('/Users/there/Doktorand/Journal Paper/Paper BLM Reactions/Data/Classifier Data/final_Test Data/Bing Images')"
   ]
  },
  {
   "cell_type": "code",
   "execution_count": 1,
   "metadata": {},
   "outputs": [],
   "source": [
    "#download first 100 images from with specific query string of BLM context \n",
    "\n",
    "query_string_1 = \"Black Lives Matter\"\n",
    "query_string_2 = \"BLM violen\"\n",
    "query_string_3 = \"police brutality\"\n",
    "query_string_4 = \"protest violence\"\n",
    "query_string_5 = \"police violence\"\n",
    "query_string_6 = \"Protest Gewalt\"\n",
    "query_string_7 = \"Black Lives Matter Demonstration\"\n",
    "query_string_8 = \"Polizei Gewalt\"\n",
    "query_string_9 = \"George Floyd\"\n",
    "query_string_10 = \"Rayshard Brooks\"\n",
    "query_string_11 = \"Donald Trump\"\n",
    "query_string_12 = \"Joe Biden\"\n",
    "query_string_13 = \"Burning\"\n",
    "query_string_14 = \"protest shooting\"\n",
    "query_string_15 = \"violent demonstration\"\n",
    "query_string_16 = \"Hong Kong violence\"\n",
    "query_string_17 = \"Portland protest\"\n",
    "query_string_18 = \"Politicians\"\n",
    "query_string_19 = \"Mug Shot\"\n",
    "query_string_20 = \"American Politicians\"\n",
    "query_string_21 = \"property destruction protest\"\n",
    "query_string_22 = \"USA violent protest\"\n",
    "query_string_23 = \"protest hurt people\"\n",
    "query_string_24 = \"bleeding protest\"\n",
    "query_string_25 = \"dead protestors\"\n",
    "\n",
    "#download search strings \n",
    "downloader.download(query_string_1, limit=100, adult_filter_off=True, force_replace=False)\n",
    "downloader.download(query_string_2, limit=100, adult_filter_off=True, force_replace=False)\n",
    "downloader.download(query_string_3, limit=100, adult_filter_off=True, force_replace=False)\n",
    "downloader.download(query_string_4, limit=100, adult_filter_off=True, force_replace=False)\n",
    "downloader.download(query_string_5, limit=100, adult_filter_off=True, force_replace=False)\n",
    "downloader.download(query_string_6, limit=100, adult_filter_off=True, force_replace=False)\n",
    "downloader.download(query_string_7, limit=100, adult_filter_off=True, force_replace=False)\n",
    "downloader.download(query_string_8, limit=100, adult_filter_off=True, force_replace=False)\n",
    "downloader.download(query_string_9, limit=100, adult_filter_off=True, force_replace=False)\n",
    "downloader.download(query_string_10, limit=100, adult_filter_off=True, force_replace=False)\n",
    "downloader.download(query_string_11, limit=100, adult_filter_off=True, force_replace=False)\n",
    "downloader.download(query_string_12, limit=100, adult_filter_off=True, force_replace=False)\n",
    "downloader.download(query_string_13, limit=100, adult_filter_off=True, force_replace=False)\n",
    "downloader.download(query_string_14, limit=100, adult_filter_off=True, force_replace=False)\n",
    "downloader.download(query_string_15, limit=100, adult_filter_off=True, force_replace=False)\n",
    "downloader.download(query_string_16, limit=100, adult_filter_off=True, force_replace=False)\n",
    "downloader.download(query_string_17, limit=100, adult_filter_off=True, force_replace=False)\n",
    "downloader.download(query_string_18, limit=100, adult_filter_off=True, force_replace=False)\n",
    "downloader.download(query_string_19, limit=100, adult_filter_off=True, force_replace=False)\n",
    "downloader.download(query_string_20, limit=100, adult_filter_off=True, force_replace=False)\n",
    "downloader.download(query_string_21, limit=100, adult_filter_off=True, force_replace=False)\n",
    "downloader.download(query_string_22, limit=100, adult_filter_off=True, force_replace=False)\n",
    "downloader.download(query_string_23, limit=100, adult_filter_off=True, force_replace=False)\n",
    "downloader.download(query_string_24, limit=100, adult_filter_off=True, force_replace=False)\n",
    "downloader.download(query_string_25, limit=100, adult_filter_off=True, force_replace=False)"
   ]
  },
  {
   "cell_type": "code",
   "execution_count": null,
   "metadata": {},
   "outputs": [],
   "source": []
  }
 ],
 "metadata": {
  "kernelspec": {
   "display_name": "Python 3",
   "language": "python",
   "name": "python3"
  },
  "language_info": {
   "codemirror_mode": {
    "name": "ipython",
    "version": 3
   },
   "file_extension": ".py",
   "mimetype": "text/x-python",
   "name": "python",
   "nbconvert_exporter": "python",
   "pygments_lexer": "ipython3",
   "version": "3.7.9"
  }
 },
 "nbformat": 4,
 "nbformat_minor": 4
}
