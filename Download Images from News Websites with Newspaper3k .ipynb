{
 "cells": [
  {
   "cell_type": "code",
   "execution_count": null,
   "metadata": {},
   "outputs": [],
   "source": [
    "#downloading images from news website in order to classify those as violent or non-violent with CNN"
   ]
  },
  {
   "cell_type": "code",
   "execution_count": 1,
   "metadata": {},
   "outputs": [],
   "source": [
    "#install all necessary libraries\n",
    "#pip install newspaper3k"
   ]
  },
  {
   "cell_type": "code",
   "execution_count": 1,
   "metadata": {},
   "outputs": [],
   "source": [
    "# import all necessary libraries\n",
    "\n",
    "#general libraries\n",
    "import pandas as pd\n",
    "import os \n",
    "import csv\n",
    "import numpy as np\n",
    "\n",
    "#Newspaper3k\n",
    "import newspaper\n",
    "from newspaper import Article\n",
    "\n",
    "#NLP libraries \n",
    "import nltk\n",
    "import re "
   ]
  },
  {
   "cell_type": "code",
   "execution_count": 2,
   "metadata": {},
   "outputs": [],
   "source": [
    "# load data into dataframe \n",
    "df_blm = pd.read_csv('/Users/there/Doktorand/Journal Paper/Paper BLM Reactions/Data/blm.csv')\n",
    "df_blm"
   ]
  },
  {
   "cell_type": "code",
   "execution_count": 4,
   "metadata": {},
   "outputs": [],
   "source": [
    "#iterate through urls in dataframe, download picture links and titles as well as save urls which do not work\n",
    "titles = []\n",
    "imageUrls = []\n",
    "failedUrls = []\n",
    "worked = True\n",
    "failed = True\n",
    "\n",
    "for index, row in df_blm.iterrows():\n",
    "    try:\n",
    "        article = Article(row['Url'])\n",
    "        article.download()\n",
    "        article.parse()\n",
    "        imageUrls.append(article.top_image)\n",
    "        failedUrls.append(worked)\n",
    "    except Exception as e:\n",
    "        failedUrls.append(article.url) \n",
    "        imageUrls.append(failed)\n",
    "    "
   ]
  },
  {
   "cell_type": "code",
   "execution_count": 3,
   "metadata": {},
   "outputs": [],
   "source": [
    "#look at imageURLs\n",
    "imageUrls"
   ]
  },
  {
   "cell_type": "code",
   "execution_count": 4,
   "metadata": {},
   "outputs": [],
   "source": [
    "#look at failed URLs\n",
    "failedUrls"
   ]
  },
  {
   "cell_type": "code",
   "execution_count": 7,
   "metadata": {},
   "outputs": [],
   "source": [
    "#save data to dataframe \n",
    "df_blm[\"Image_Url\"] = imageUrls\n",
    "df_blm[\"Image_URL_received\"] = failedUrls"
   ]
  },
  {
   "cell_type": "code",
   "execution_count": 9,
   "metadata": {},
   "outputs": [],
   "source": [
    "#save dataframe to csv\n",
    "data = \"/Users/there/Doktorand/Journal Paper/Paper BLM Reactions/Data/blm_v2.csv\"\n",
    "df_blm.to_csv(data)"
   ]
  }
 ],
 "metadata": {
  "kernelspec": {
   "display_name": "Python 3",
   "language": "python",
   "name": "python3"
  },
  "language_info": {
   "codemirror_mode": {
    "name": "ipython",
    "version": 3
   },
   "file_extension": ".py",
   "mimetype": "text/x-python",
   "name": "python",
   "nbconvert_exporter": "python",
   "pygments_lexer": "ipython3",
   "version": "3.7.9"
  }
 },
 "nbformat": 4,
 "nbformat_minor": 4
}
