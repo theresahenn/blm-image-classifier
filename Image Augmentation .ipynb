{
 "cells": [
  {
   "cell_type": "code",
   "execution_count": 2,
   "metadata": {},
   "outputs": [],
   "source": [
    "#A model trained on this modified, augmented data is more likely to generalize to example \n",
    "#data points not included in the training set."
   ]
  },
  {
   "cell_type": "code",
   "execution_count": 1,
   "metadata": {},
   "outputs": [],
   "source": [
    "#import all necessary libraries\n",
    "\n",
    "#general libraries \n",
    "import os\n",
    "import sys\n",
    "import glob\n",
    "import pandas as pd\n",
    "\n",
    "#image visualization\n",
    "import matplotlib.pyplot as plt \n",
    "import matplotlib.image as mpimg \n",
    "\n",
    "#image operations \n",
    "import numpy as np \n",
    "import cv2\n",
    "from PIL import Image\n",
    "\n",
    "#deep learning \n",
    "from keras.preprocessing.image import ImageDataGenerator, load_img, img_to_array\n",
    "import tensorflow as tf\n"
   ]
  },
  {
   "cell_type": "code",
   "execution_count": 7,
   "metadata": {},
   "outputs": [],
   "source": [
    "# get and set working directory\n",
    "os.getcwd()\n",
    "os.chdir(\"/Users/there/Doktorand/Journal Paper/Paper BLM Reactions/Data/Classifier Data/final_Test Data\")\n",
    "os.getcwd()"
   ]
  },
  {
   "cell_type": "code",
   "execution_count": 3,
   "metadata": {},
   "outputs": [],
   "source": [
    "#define data generator and modify images \n",
    "datagen = ImageDataGenerator(\n",
    "        rotation_range=40,\n",
    "        width_shift_range=0.2,\n",
    "        height_shift_range=0.2,\n",
    "        rescale=1./255,\n",
    "        shear_range=0.2,\n",
    "        zoom_range=0.2,\n",
    "        horizontal_flip=True,\n",
    "        fill_mode='nearest')"
   ]
  },
  {
   "cell_type": "code",
   "execution_count": null,
   "metadata": {},
   "outputs": [],
   "source": [
    "#Testing image augmentation with one test image"
   ]
  },
  {
   "cell_type": "code",
   "execution_count": 4,
   "metadata": {},
   "outputs": [],
   "source": [
    "#load test picture\n",
    "pic = load_img('/Users/there/Doktorand/Journal Paper/Paper BLM Reactions/Data/Classifier Data/final_Test Data/non-violent/_0_0.jpg')"
   ]
  },
  {
   "cell_type": "code",
   "execution_count": 6,
   "metadata": {},
   "outputs": [],
   "source": [
    "#convert to array and check array size\n",
    "pic_array = img_to_array(pic)\n",
    "pic_array.shape "
   ]
  },
  {
   "cell_type": "code",
   "execution_count": 8,
   "metadata": {},
   "outputs": [],
   "source": [
    "#convert into four-dimensional array for later use\n",
    "pic_array = pic_array.reshape((-1,) + pic_array.shape) \n",
    "pic_array.shape"
   ]
  },
  {
   "cell_type": "code",
   "execution_count": 42,
   "metadata": {},
   "outputs": [],
   "source": [
    "#generate 10 images\n",
    "count = 0\n",
    "for batch in datagen.flow(pic_array, batch_size=1,save_to_dir=\"/Users/there/Doktorand/Journal Paper/Paper BLM Reactions/Data/Classifier Data/final_Test Data/non-violent/_0_0.jpg\", save_format='jpg'):\n",
    "    count += 1\n",
    "    if count > 10:\n",
    "        break"
   ]
  },
  {
   "cell_type": "code",
   "execution_count": null,
   "metadata": {},
   "outputs": [],
   "source": [
    "#creating not only one but several augmented violent pictures "
   ]
  },
  {
   "cell_type": "code",
   "execution_count": 9,
   "metadata": {},
   "outputs": [],
   "source": [
    "#importing all pictures from folder and checking size and type \n",
    "for image_path in glob.glob(\"/Users/there/Doktorand/Journal Paper/Paper BLM Reactions/Data/Classifier Data/final_Test Data/violent/*.jpg\"):\n",
    "    image = mpimg.imread(image_path)\n",
    "    print (image.shape)\n",
    "    print (image.dtype)\n",
    "    plt.imshow(image)\n",
    "    plt.show()\n",
    "    print(os.path.basename(image_path))\n",
    "    break"
   ]
  },
  {
   "cell_type": "code",
   "execution_count": 10,
   "metadata": {},
   "outputs": [],
   "source": [
    "#checking all shapes of pictures\n",
    "for image_path in glob.glob(\"//Users/there/Doktorand/Journal Paper/Paper BLM Reactions/Data/Classifier Data/final_Test Data/violent/*.jpg\"):\n",
    "    image = mpimg.imread(image_path)\n",
    "    print(image.shape)"
   ]
  },
  {
   "cell_type": "code",
   "execution_count": 11,
   "metadata": {},
   "outputs": [],
   "source": [
    "#resize all the pictures in order to fit the image classifier \n",
    "for image_path in glob.glob(\"/Users/there/Doktorand/Journal Paper/Paper BLM Reactions/Data/Classifier Data/final_Test Data/violent/*.jpg\"):\n",
    "    image = mpimg.imread(image_path)\n",
    "    IMG_SIZE = 255\n",
    "    new_array = cv2.resize(image, (IMG_SIZE, IMG_SIZE))\n",
    "    plt.imshow(new_array)\n",
    "    plt.show()\n",
    "    break"
   ]
  },
  {
   "cell_type": "code",
   "execution_count": 12,
   "metadata": {},
   "outputs": [],
   "source": [
    "#look at shape resized images\n",
    "new_array.shape"
   ]
  },
  {
   "cell_type": "code",
   "execution_count": 8,
   "metadata": {},
   "outputs": [],
   "source": [
    "#generate 10 violent new images per violent image \n",
    "for image_path in glob.glob(\"/Users/there/Doktorand/Journal Paper/Paper BLM Reactions/Data/Classifier Data/final_Test Data/violent/*.jpg\"):\n",
    "    image = mpimg.imread(image_path)\n",
    "    IMG_SIZE = 255\n",
    "    new_array = cv2.resize(image, (IMG_SIZE, IMG_SIZE))\n",
    "    pic_array = new_array.reshape((-1,) + new_array.shape) \n",
    "    count = 0\n",
    "    for batch in datagen.flow(pic_array, batch_size=20,save_to_dir=\"/Users/there/Doktorand/Journal Paper/Paper BLM Reactions/Data/Classifier Data/final_Test Data/violent/augmented\", save_format='jpg'):\n",
    "        count += 1\n",
    "        if count > 10:\n",
    "             break"
   ]
  },
  {
   "cell_type": "code",
   "execution_count": null,
   "metadata": {},
   "outputs": [],
   "source": [
    "#creating not only one but several augmented non-violent pictures "
   ]
  },
  {
   "cell_type": "code",
   "execution_count": 13,
   "metadata": {},
   "outputs": [],
   "source": [
    "#importing all pictures from folder and checking size and type \n",
    "#for image_path in glob.glob(\"/Users/there/Doktorand/Journal Paper/Paper BLM Reactions/Data/Classifier Data/final_Test Data/non-violent/*.jpg\"):\n",
    "    image = mpimg.imread(image_path)\n",
    "    print (image.shape)\n",
    "    print (image.dtype)\n",
    "    plt.imshow(image)\n",
    "    plt.show()\n",
    "    print(os.path.basename(image_path))\n",
    "    break"
   ]
  },
  {
   "cell_type": "code",
   "execution_count": 14,
   "metadata": {
    "scrolled": false
   },
   "outputs": [],
   "source": [
    "#checking all shapes of pictures\n",
    "for image_path in glob.glob(\"//Users/there/Doktorand/Journal Paper/Paper BLM Reactions/Data/Classifier Data/final_Test Data/non-violent/*.jpg\"):\n",
    "    image = mpimg.imread(image_path)\n",
    "    print(image.shape)\n",
    "    break"
   ]
  },
  {
   "cell_type": "code",
   "execution_count": 15,
   "metadata": {},
   "outputs": [],
   "source": [
    "#resize all the pictures\n",
    "for image_path in glob.glob(\"/Users/there/Doktorand/Journal Paper/Paper BLM Reactions/Data/Classifier Data/final_Test Data/non-violent/*.jpg\"):\n",
    "    image = mpimg.imread(image_path)\n",
    "    IMG_SIZE = 255\n",
    "    new_new_array = cv2.resize(image, (IMG_SIZE, IMG_SIZE))\n",
    "    plt.imshow(new_new_array)\n",
    "    plt.show()\n",
    "    break"
   ]
  },
  {
   "cell_type": "code",
   "execution_count": 16,
   "metadata": {},
   "outputs": [],
   "source": [
    "#look at shape of array\n",
    "new_new_array.shape"
   ]
  },
  {
   "cell_type": "code",
   "execution_count": 14,
   "metadata": {},
   "outputs": [],
   "source": [
    "#generate 10 non-violent new images per non-violent image \n",
    "for image_path in glob.glob(\"/Users/there/Doktorand/Journal Paper/Paper BLM Reactions/Data/Classifier Data/final_Test Data/non-violent/*.jpg\"):\n",
    "    try:\n",
    "        image = mpimg.imread(image_path)\n",
    "        IMG_SIZE = 255\n",
    "        new_new_array = cv2.resize(image, (IMG_SIZE, IMG_SIZE))\n",
    "        new_pic_array = new_new_array.reshape((-1,) + new_new_array.shape) \n",
    "        count = 0\n",
    "        for batch in datagen.flow(new_pic_array, batch_size=20,save_to_dir=\"/Users/there/Doktorand/Journal Paper/Paper BLM Reactions/Data/Classifier Data/final_Test Data/non-violent/augmented\", save_format='jpg'):\n",
    "            count += 1\n",
    "            if count > 10:\n",
    "                break\n",
    "    except Exception as e:\n",
    "        print('Error')"
   ]
  }
 ],
 "metadata": {
  "kernelspec": {
   "display_name": "Python 3",
   "language": "python",
   "name": "python3"
  },
  "language_info": {
   "codemirror_mode": {
    "name": "ipython",
    "version": 3
   },
   "file_extension": ".py",
   "mimetype": "text/x-python",
   "name": "python",
   "nbconvert_exporter": "python",
   "pygments_lexer": "ipython3",
   "version": "3.7.9"
  }
 },
 "nbformat": 4,
 "nbformat_minor": 4
}
