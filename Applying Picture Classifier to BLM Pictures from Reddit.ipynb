{
 "cells": [
  {
   "cell_type": "code",
   "execution_count": 1,
   "metadata": {},
   "outputs": [],
   "source": [
    "#testing the image classifier with images from Reddit in a BLM context"
   ]
  },
  {
   "cell_type": "code",
   "execution_count": null,
   "metadata": {},
   "outputs": [],
   "source": [
    "#installing all necessary libraries\n",
    "#pip install opencv-python\n",
    "#pip install tensorflow"
   ]
  },
  {
   "cell_type": "code",
   "execution_count": 1,
   "metadata": {},
   "outputs": [],
   "source": [
    "#loading all necessary libraries \n",
    "\n",
    "#general libraries\n",
    "import os\n",
    "import glob\n",
    "import pandas as pd\n",
    "import random\n",
    "\n",
    "#math libraries\n",
    "import numpy as np\n",
    "\n",
    "#visualization libraries \n",
    "import matplotlib.pyplot as plt \n",
    "import matplotlib.image as mpimg\n",
    "\n",
    "#image operations\n",
    "import cv2 \n",
    "from PIL import Image  \n",
    "\n",
    "#deep learning libraries\n",
    "import tensorflow as tf ##deep learning model \n",
    "\n",
    "#data format libraries\n",
    "import csv \n",
    "import pickle\n",
    "\n",
    "#nlp libraries \n",
    "import re\n"
   ]
  },
  {
   "cell_type": "code",
   "execution_count": 1,
   "metadata": {},
   "outputs": [],
   "source": [
    "#check and change working directory\n",
    "os.getcwd()\n",
    "os.chdir(\"/Users/there/Doktorand/Journal Paper/Paper BLM Reactions/Data/BLM_Images_Tumbnails\")\n",
    "os.getcwd()"
   ]
  },
  {
   "cell_type": "code",
   "execution_count": 2,
   "metadata": {},
   "outputs": [],
   "source": [
    "#importing all pictures from folder and checking size and type for jpg\n",
    "for image_path in glob.glob(\"/Users/there/Doktorand/Journal Paper/Paper BLM Reactions/Data/BLM_Images_Tumbnails/*.jpg\"):\n",
    "    image = mpimg.imread(image_path)\n",
    "    print (image.shape)\n",
    "    print (image.dtype)\n",
    "    plt.imshow(image)\n",
    "    plt.show()\n",
    "    print(os.path.basename(image_path))\n",
    "    break"
   ]
  },
  {
   "cell_type": "code",
   "execution_count": 3,
   "metadata": {
    "scrolled": true
   },
   "outputs": [],
   "source": [
    "#checking all shapes of pictures jpg\n",
    "for image_path in glob.glob(\"/Users/there/Doktorand/Journal Paper/Paper BLM Reactions/Data/Images_BLM_Dataset_direct_1/*.jpg\"):\n",
    "    try:\n",
    "        image = mpimg.imread(image_path)\n",
    "        print(image.shape)\n",
    "    except Exception as e:\n",
    "        print('Error, could not print picture', image_path)"
   ]
  },
  {
   "cell_type": "code",
   "execution_count": 4,
   "metadata": {},
   "outputs": [],
   "source": [
    "#check for gray images because those are broken images which will not be converted to numpy array later on\n",
    "gray_data = [] #empty array\n",
    "\n",
    "for img in glob.glob(\"/Users/there/Doktorand/Journal Paper/Paper BLM Reactions/Data/BLM_Images_Tumbnails/*.jpg\"):\n",
    "    try:\n",
    "        image = mpimg.imread(img)#read image\n",
    "        image_label = os.path.basename(img) #rename label\n",
    "        if(len(image.shape)<3): #if smaller than 3 then it will be gray\n",
    "            gray_data.append([image_label]) #append array\n",
    "        else:\n",
    "            print ('others')\n",
    "    except Exception as e:\n",
    "        pass\n",
    "\n",
    "gray_data"
   ]
  },
  {
   "cell_type": "code",
   "execution_count": 7,
   "metadata": {},
   "outputs": [],
   "source": [
    "#save gray data as list\n",
    "with open(\"/Users/there/Doktorand/Journal Paper/Paper BLM Reactions/Data/Images_BLM_Dataset_direct_1/gray_data.txt\", 'w') as output:\n",
    "    for row in gray_data:\n",
    "        output.write(str(row) + '\\n')\n"
   ]
  },
  {
   "cell_type": "code",
   "execution_count": 9,
   "metadata": {},
   "outputs": [],
   "source": [
    "#remove unnecessary items in txt file \n",
    "with open('/Users/there/Doktorand/Journal Paper/Paper BLM Reactions/Data/Images_BLM_Dataset_direct_1/gray_data.txt', 'r') as my_file:\n",
    "    text = my_file.read()\n",
    "    text = text.replace(\"[\", \"\")\n",
    "    text = text.replace(\"]\", \"\")\n",
    "    text= text.replace(\"'\", '')\n",
    "\n",
    "#save the updates back into a cleaned up file\n",
    "with open('/Users/there/Doktorand/Journal Paper/Paper BLM Reactions/Data/Images_BLM_Dataset_direct_1/gray_data.txt', 'w') as my_file:\n",
    "    my_file.write(text)"
   ]
  },
  {
   "cell_type": "code",
   "execution_count": 10,
   "metadata": {},
   "outputs": [],
   "source": [
    "#delete images which are gray\n",
    "path = \"/Users/there/Doktorand/Journal Paper/Paper BLM Reactions/Data/Images_BLM_Dataset_direct_1\"\n",
    "with open('gray_data.txt', \"r\") as list_file:\n",
    "    _list = list_file.read().splitlines()\n",
    "    [os.remove(os.path.join(path,f)) for f in _list]"
   ]
  },
  {
   "cell_type": "code",
   "execution_count": 5,
   "metadata": {},
   "outputs": [],
   "source": [
    "#create own dataset with resized picutres\n",
    "owntest_data = [] #empty array\n",
    "IMG_SIZE = 255 #image size\n",
    "\n",
    "for img in glob.glob(\"/Users/there/Doktorand/Journal Paper/Paper BLM Reactions/Data/BLM_Images_Tumbnails/*.jpg\"):\n",
    "        try:\n",
    "            image = mpimg.imread(img)\n",
    "            image = image[:, :, :3] #dropping 4th dimension(RGB-4)\n",
    "            new_array = cv2.resize(image, (IMG_SIZE, IMG_SIZE)) #resize\n",
    "            print(new_array.shape) #check array size just to be sure\n",
    "            image_label = os.path.basename(img) #rename label\n",
    "            owntest_data.append([new_array, image_label]) #append array\n",
    "        except Exception as e:\n",
    "            print(\"Image is broken, move on\", image_label)\n",
    "\n",
    "#look at new dataset\n",
    "owntest_data\n"
   ]
  },
  {
   "cell_type": "code",
   "execution_count": 6,
   "metadata": {},
   "outputs": [],
   "source": [
    "#check length of array\n",
    "print(len(owntest_data))"
   ]
  },
  {
   "cell_type": "code",
   "execution_count": 7,
   "metadata": {},
   "outputs": [],
   "source": [
    "#check shape of array\n",
    "print(new_array.shape)"
   ]
  },
  {
   "cell_type": "code",
   "execution_count": 8,
   "metadata": {},
   "outputs": [],
   "source": [
    "#shuffle data otherwise it will not classify \n",
    "random.shuffle(owntest_data)"
   ]
  },
  {
   "cell_type": "code",
   "execution_count": 9,
   "metadata": {},
   "outputs": [],
   "source": [
    "#have a look if data is really shuffled\n",
    "for sample in owntest_data[:10]:\n",
    "    print(sample[1])"
   ]
  },
  {
   "cell_type": "code",
   "execution_count": 9,
   "metadata": {
    "scrolled": true
   },
   "outputs": [],
   "source": [
    "#create lists for storing the data as np arrays\n",
    "X = [] #picture array\n",
    "y = [] #picture name array\n",
    "\n",
    "for new_array, image_label in owntest_data:\n",
    "    X.append(new_array)\n",
    "    y.append(image_label)"
   ]
  },
  {
   "cell_type": "code",
   "execution_count": 10,
   "metadata": {},
   "outputs": [],
   "source": [
    "#convert into numpy array\n",
    "X = np.array(X).reshape(-1, IMG_SIZE, IMG_SIZE, 3)"
   ]
  },
  {
   "cell_type": "code",
   "execution_count": 10,
   "metadata": {},
   "outputs": [],
   "source": [
    "#look at the pictures\n",
    "print(X)"
   ]
  },
  {
   "cell_type": "code",
   "execution_count": 11,
   "metadata": {},
   "outputs": [],
   "source": [
    "#have a look at the labels \n",
    "print(y)"
   ]
  },
  {
   "cell_type": "code",
   "execution_count": 18,
   "metadata": {},
   "outputs": [],
   "source": [
    "#save the dataset and labels \n",
    "pickle_out = open(\"/Users/there/Doktorand/Journal Paper/Paper BLM Reactions/Data/Images_BLM_Dataset_direct_1/X_BLMjpg.pickle\", \"wb\")\n",
    "pickle.dump(X, pickle_out)\n",
    "pickle_out.close()\n",
    "\n",
    "pickle_out = open(\"/Users/there/Doktorand/Journal Paper/Paper BLM Reactions/Data/Images_BLM_Dataset_direct_1/y_BLMjpg.pickle\", \"wb\")\n",
    "pickle.dump(y, pickle_out)\n",
    "pickle_out.close()"
   ]
  },
  {
   "cell_type": "code",
   "execution_count": 19,
   "metadata": {},
   "outputs": [],
   "source": [
    "#check if dataset loads\n",
    "pickle_in = open(\"/Users/there/Doktorand/Journal Paper/Paper BLM Reactions/Data/Images_BLM_Dataset_direct_1/X_BLMjpg.pickle\", \"rb\")\n",
    "X = pickle.load(pickle_in)\n",
    "pickle_in = open(\"/Users/there/Doktorand/Journal Paper/Paper BLM Reactions/Data/Images_BLM_Dataset_direct_1/y_BLMjpg.pickle\", \"rb\")\n",
    "y = pickle.load(pickle_in)"
   ]
  },
  {
   "cell_type": "code",
   "execution_count": 12,
   "metadata": {
    "scrolled": true
   },
   "outputs": [],
   "source": [
    "#look at data\n",
    "print(X.shape)"
   ]
  },
  {
   "cell_type": "code",
   "execution_count": 13,
   "metadata": {},
   "outputs": [],
   "source": [
    "#look at picture labels\n",
    "print(y)"
   ]
  },
  {
   "cell_type": "code",
   "execution_count": 11,
   "metadata": {},
   "outputs": [],
   "source": [
    "#define categories where 0 = non-violent and 1 =violent and load model \n",
    "CATEGORIES = [\"non-violent\", \"violent\"]\n",
    "model = tf.keras.models.load_model(\"/Users/there/Doktorand/Journal Paper/Paper BLM Reactions/Python/CNN12.model\")"
   ]
  },
  {
   "cell_type": "code",
   "execution_count": 14,
   "metadata": {
    "scrolled": true
   },
   "outputs": [],
   "source": [
    "#test pictures in model and looping through array \n",
    "#create lists to save data \n",
    "Post_ID = []\n",
    "Violence_Classification = []\n",
    "\n",
    "i = 0\n",
    "while i < len(X):\n",
    "    try:\n",
    "        prediction = model.predict(X)\n",
    "        for i in range(len(X)):\n",
    "            print(\"Picture=%s, Prediction=%s\" % (y[i], prediction[i]))\n",
    "            Post_ID.append(y[0+i])\n",
    "            Violence_Classification.append(prediction[0+i])\n",
    "            #print(y[0+i], prediction[0+i])\n",
    "            i+=1\n",
    "    except Exception as e:\n",
    "        print('Error', y[0+i]) \n",
    "        i+=1"
   ]
  },
  {
   "cell_type": "code",
   "execution_count": 15,
   "metadata": {
    "scrolled": true
   },
   "outputs": [],
   "source": [
    "#look at Post ID\n",
    "Post_ID"
   ]
  },
  {
   "cell_type": "code",
   "execution_count": 16,
   "metadata": {
    "scrolled": true
   },
   "outputs": [],
   "source": [
    "#replace the extension .jpg\n",
    "j=0\n",
    "for i in Post_ID:\n",
    "    Post_ID[j] =i.replace(\".jpg\", \"\")\n",
    "    j+=1\n",
    "print (Post_ID)"
   ]
  },
  {
   "cell_type": "code",
   "execution_count": 17,
   "metadata": {},
   "outputs": [],
   "source": [
    "#convert numpay list to normal list in order to get fitting format \n",
    "my_dt = pd.DataFrame(Violence_Classification)\n",
    "Violence = [i[0] for i in my_dt.values.tolist()]\n",
    "\n",
    "print(type(Violence_Classification),type(my_dt),type(Violence))"
   ]
  },
  {
   "cell_type": "code",
   "execution_count": 18,
   "metadata": {},
   "outputs": [],
   "source": [
    "#look at new list \n",
    "Violence"
   ]
  },
  {
   "cell_type": "code",
   "execution_count": 19,
   "metadata": {
    "scrolled": true
   },
   "outputs": [],
   "source": [
    "#rounding values to only get 1 or 0\n",
    "Violence_rounded = [round(num) for num in Violence]\n",
    "Violence_rounded"
   ]
  },
  {
   "cell_type": "code",
   "execution_count": 18,
   "metadata": {},
   "outputs": [],
   "source": [
    "#save data to df and then to csv\n",
    "df = pd.DataFrame(data={\"Post ID\": Post_ID, \"Violence Classification\": Violence_rounded})\n",
    "df.to_csv(\"/Users/there/Doktorand/Journal Paper/Paper BLM Reactions/Data/BLM_Images_Tumbnails/Violence.csv\", sep=';',index=False)"
   ]
  }
 ],
 "metadata": {
  "kernelspec": {
   "display_name": "Python 3",
   "language": "python",
   "name": "python3"
  },
  "language_info": {
   "codemirror_mode": {
    "name": "ipython",
    "version": 3
   },
   "file_extension": ".py",
   "mimetype": "text/x-python",
   "name": "python",
   "nbconvert_exporter": "python",
   "pygments_lexer": "ipython3",
   "version": "3.7.9"
  }
 },
 "nbformat": 4,
 "nbformat_minor": 4
}
